{
 "cells": [
  {
   "cell_type": "code",
   "execution_count": null,
   "metadata": {},
   "outputs": [],
   "source": [
    "\n",
    "import app.main_workflow\n",
    "import app.survey\n",
    "import app.prompt\n",
    "import app.audio\n",
    "import app.config\n",
    "\n",
    "importlib.reload(app.config)\n",
    "importlib.reload(app.audio) \n",
    "importlib.reload(app.prompt)\n",
    "importlib.reload(app.survey)\n",
    "importlib.reload(app.main_workflow)"
   ]
  },
  {
   "cell_type": "code",
   "execution_count": 27,
   "metadata": {},
   "outputs": [
    {
     "data": {
      "text/plain": [
       "<module 'app.main_workflow' from 'c:\\\\LocalFiles\\\\surveytool\\\\app\\\\main_workflow.py'>"
      ]
     },
     "execution_count": 27,
     "metadata": {},
     "output_type": "execute_result"
    }
   ],
   "source": [
    "import importlib\n",
    "import app.main_workflow as mw\n",
    "importlib.reload(mw)\n",
    "\n",
    "\n"
   ]
  },
  {
   "cell_type": "code",
   "execution_count": 28,
   "metadata": {},
   "outputs": [
    {
     "name": "stdout",
     "output_type": "stream",
     "text": [
      "Successfully prepared survey from survey_20250703_1536.xlsx\n"
     ]
    }
   ],
   "source": [
    "survey_questions, df = mw.prepare_survey(\"survey_20250703_1536\")\n",
    "df = mw.process_recording(\"recording1\", survey_questions, df)"
   ]
  }
 ],
 "metadata": {
  "kernelspec": {
   "display_name": ".venv",
   "language": "python",
   "name": "python3"
  },
  "language_info": {
   "codemirror_mode": {
    "name": "ipython",
    "version": 3
   },
   "file_extension": ".py",
   "mimetype": "text/x-python",
   "name": "python",
   "nbconvert_exporter": "python",
   "pygments_lexer": "ipython3",
   "version": "3.12.10"
  }
 },
 "nbformat": 4,
 "nbformat_minor": 2
}
